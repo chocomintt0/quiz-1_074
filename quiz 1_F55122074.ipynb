{
  "nbformat": 4,
  "nbformat_minor": 0,
  "metadata": {
    "colab": {
      "provenance": []
    },
    "kernelspec": {
      "name": "python3",
      "display_name": "Python 3"
    },
    "language_info": {
      "name": "python"
    }
  },
  "cells": [
    {
      "cell_type": "code",
      "source": [
        "import numpy as np\n",
        "\n",
        "class Matrix:\n",
        "    def __init__(self, matrix):\n",
        "        self.matrix = np.array(matrix)\n",
        "\n",
        "    def max_min_element(self):\n",
        "        return self.matrix.max(), self.matrix.min()\n",
        "\n",
        "    def transpose(self):\n",
        "        return self.matrix.T\n",
        "\n",
        "    def multiply(self, other):\n",
        "        return np.dot(self.matrix, other)\n",
        "\n",
        "    def add(self, other):\n",
        "        return np.add(self.matrix, other)\n",
        "\n",
        "if __name__ == \"__main__\":\n",
        "    A = Matrix([\n",
        "        [34, 100, 12],\n",
        "        [72, 24, 55],\n",
        "        [61, 20, 19]\n",
        "    ])\n",
        "\n",
        "    max_element, min_element = A.max_min_element()\n",
        "    print(f\"Elemen terbesar: {max_element}, Elemen terkecil: {min_element}\")\n",
        "\n",
        "    T = A.transpose()\n",
        "    print(f\"Transpose of A:\\n{T}\")\n",
        "\n",
        "    product = A.multiply(T)\n",
        "    print(f\"Perkalian A dan T:\\n{product}\")\n",
        "\n",
        "    sum = A.add(T)\n",
        "    print(f\"Penjumlahan A dan T:\\n{sum}\")\n"
      ],
      "metadata": {
        "colab": {
          "base_uri": "https://localhost:8080/"
        },
        "id": "cA9cYnEvM-lj",
        "outputId": "b1c22f50-ec1d-4ef9-9fbc-54356cfc0e1b"
      },
      "execution_count": 10,
      "outputs": [
        {
          "output_type": "stream",
          "name": "stdout",
          "text": [
            "Elemen terbesar: 100, Elemen terkecil: 12\n",
            "Transpose of A:\n",
            "[[ 34  72  61]\n",
            " [100  24  20]\n",
            " [ 12  55  19]]\n",
            "Perkalian A dan T:\n",
            "[[11300  5508  4302]\n",
            " [ 5508  8785  5917]\n",
            " [ 4302  5917  4482]]\n",
            "Penjumlahan A dan T:\n",
            "[[ 68 172  73]\n",
            " [172  48  75]\n",
            " [ 73  75  38]]\n"
          ]
        }
      ]
    }
  ]
}